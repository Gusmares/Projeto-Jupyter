{
 "cells": [
  {
   "cell_type": "code",
   "execution_count": 23,
   "metadata": {},
   "outputs": [],
   "source": [
    "import yfinance as yf\n"
   ]
  },
  {
   "cell_type": "code",
   "execution_count": 24,
   "metadata": {},
   "outputs": [
    {
     "name": "stderr",
     "output_type": "stream",
     "text": [
      "PETR4.SA: Period '6m0' is invalid, must be of the format 1d, 5d, 1mo, 3mo, 6mo, 1y, 2y, 5y, 10y, ytd, max, etc.\n"
     ]
    },
    {
     "name": "stdout",
     "output_type": "stream",
     "text": [
      "tabela\n"
     ]
    }
   ],
   "source": [
    "ticker = input(\"PETR4.SA\")\n",
    "dados = yf.Ticker(ticker)\n",
    "dados.history(period=\"6m0\")\n",
    "print(\"tabela\")"
   ]
  },
  {
   "cell_type": "code",
   "execution_count": 25,
   "metadata": {},
   "outputs": [
    {
     "data": {
      "text/html": [
       "<div>\n",
       "<style scoped>\n",
       "    .dataframe tbody tr th:only-of-type {\n",
       "        vertical-align: middle;\n",
       "    }\n",
       "\n",
       "    .dataframe tbody tr th {\n",
       "        vertical-align: top;\n",
       "    }\n",
       "\n",
       "    .dataframe thead th {\n",
       "        text-align: right;\n",
       "    }\n",
       "</style>\n",
       "<table border=\"1\" class=\"dataframe\">\n",
       "  <thead>\n",
       "    <tr style=\"text-align: right;\">\n",
       "      <th></th>\n",
       "      <th>Open</th>\n",
       "      <th>High</th>\n",
       "      <th>Low</th>\n",
       "      <th>Close</th>\n",
       "      <th>Volume</th>\n",
       "      <th>Dividends</th>\n",
       "      <th>Stock Splits</th>\n",
       "    </tr>\n",
       "    <tr>\n",
       "      <th>Date</th>\n",
       "      <th></th>\n",
       "      <th></th>\n",
       "      <th></th>\n",
       "      <th></th>\n",
       "      <th></th>\n",
       "      <th></th>\n",
       "      <th></th>\n",
       "    </tr>\n",
       "  </thead>\n",
       "  <tbody>\n",
       "    <tr>\n",
       "      <th>2024-09-18 00:00:00-03:00</th>\n",
       "      <td>34.208851</td>\n",
       "      <td>34.227388</td>\n",
       "      <td>33.504471</td>\n",
       "      <td>33.504471</td>\n",
       "      <td>38777000</td>\n",
       "      <td>0.0</td>\n",
       "      <td>0.0</td>\n",
       "    </tr>\n",
       "    <tr>\n",
       "      <th>2024-09-19 00:00:00-03:00</th>\n",
       "      <td>33.893729</td>\n",
       "      <td>34.088360</td>\n",
       "      <td>33.541537</td>\n",
       "      <td>33.615685</td>\n",
       "      <td>25059700</td>\n",
       "      <td>0.0</td>\n",
       "      <td>0.0</td>\n",
       "    </tr>\n",
       "    <tr>\n",
       "      <th>2024-09-20 00:00:00-03:00</th>\n",
       "      <td>33.615689</td>\n",
       "      <td>33.736176</td>\n",
       "      <td>33.430324</td>\n",
       "      <td>33.606419</td>\n",
       "      <td>48336200</td>\n",
       "      <td>0.0</td>\n",
       "      <td>0.0</td>\n",
       "    </tr>\n",
       "    <tr>\n",
       "      <th>2024-09-23 00:00:00-03:00</th>\n",
       "      <td>33.726907</td>\n",
       "      <td>34.255193</td>\n",
       "      <td>33.569349</td>\n",
       "      <td>33.949345</td>\n",
       "      <td>28218500</td>\n",
       "      <td>0.0</td>\n",
       "      <td>0.0</td>\n",
       "    </tr>\n",
       "    <tr>\n",
       "      <th>2024-09-24 00:00:00-03:00</th>\n",
       "      <td>34.505432</td>\n",
       "      <td>34.579580</td>\n",
       "      <td>34.032757</td>\n",
       "      <td>34.088364</td>\n",
       "      <td>35104100</td>\n",
       "      <td>0.0</td>\n",
       "      <td>0.0</td>\n",
       "    </tr>\n",
       "    <tr>\n",
       "      <th>...</th>\n",
       "      <td>...</td>\n",
       "      <td>...</td>\n",
       "      <td>...</td>\n",
       "      <td>...</td>\n",
       "      <td>...</td>\n",
       "      <td>...</td>\n",
       "      <td>...</td>\n",
       "    </tr>\n",
       "    <tr>\n",
       "      <th>2025-03-12 00:00:00-03:00</th>\n",
       "      <td>34.160000</td>\n",
       "      <td>34.400002</td>\n",
       "      <td>33.959999</td>\n",
       "      <td>34.099998</td>\n",
       "      <td>20149100</td>\n",
       "      <td>0.0</td>\n",
       "      <td>0.0</td>\n",
       "    </tr>\n",
       "    <tr>\n",
       "      <th>2025-03-13 00:00:00-03:00</th>\n",
       "      <td>34.180000</td>\n",
       "      <td>34.540001</td>\n",
       "      <td>34.040001</td>\n",
       "      <td>34.439999</td>\n",
       "      <td>19263600</td>\n",
       "      <td>0.0</td>\n",
       "      <td>0.0</td>\n",
       "    </tr>\n",
       "    <tr>\n",
       "      <th>2025-03-14 00:00:00-03:00</th>\n",
       "      <td>34.599998</td>\n",
       "      <td>35.759998</td>\n",
       "      <td>34.369999</td>\n",
       "      <td>35.500000</td>\n",
       "      <td>41529400</td>\n",
       "      <td>0.0</td>\n",
       "      <td>0.0</td>\n",
       "    </tr>\n",
       "    <tr>\n",
       "      <th>2025-03-17 00:00:00-03:00</th>\n",
       "      <td>35.610001</td>\n",
       "      <td>36.410000</td>\n",
       "      <td>35.599998</td>\n",
       "      <td>36.160000</td>\n",
       "      <td>31175900</td>\n",
       "      <td>0.0</td>\n",
       "      <td>0.0</td>\n",
       "    </tr>\n",
       "    <tr>\n",
       "      <th>2025-03-18 00:00:00-03:00</th>\n",
       "      <td>36.189999</td>\n",
       "      <td>36.410000</td>\n",
       "      <td>35.910000</td>\n",
       "      <td>36.189999</td>\n",
       "      <td>15086400</td>\n",
       "      <td>0.0</td>\n",
       "      <td>0.0</td>\n",
       "    </tr>\n",
       "  </tbody>\n",
       "</table>\n",
       "<p>122 rows × 7 columns</p>\n",
       "</div>"
      ],
      "text/plain": [
       "                                Open       High        Low      Close  \\\n",
       "Date                                                                    \n",
       "2024-09-18 00:00:00-03:00  34.208851  34.227388  33.504471  33.504471   \n",
       "2024-09-19 00:00:00-03:00  33.893729  34.088360  33.541537  33.615685   \n",
       "2024-09-20 00:00:00-03:00  33.615689  33.736176  33.430324  33.606419   \n",
       "2024-09-23 00:00:00-03:00  33.726907  34.255193  33.569349  33.949345   \n",
       "2024-09-24 00:00:00-03:00  34.505432  34.579580  34.032757  34.088364   \n",
       "...                              ...        ...        ...        ...   \n",
       "2025-03-12 00:00:00-03:00  34.160000  34.400002  33.959999  34.099998   \n",
       "2025-03-13 00:00:00-03:00  34.180000  34.540001  34.040001  34.439999   \n",
       "2025-03-14 00:00:00-03:00  34.599998  35.759998  34.369999  35.500000   \n",
       "2025-03-17 00:00:00-03:00  35.610001  36.410000  35.599998  36.160000   \n",
       "2025-03-18 00:00:00-03:00  36.189999  36.410000  35.910000  36.189999   \n",
       "\n",
       "                             Volume  Dividends  Stock Splits  \n",
       "Date                                                          \n",
       "2024-09-18 00:00:00-03:00  38777000        0.0           0.0  \n",
       "2024-09-19 00:00:00-03:00  25059700        0.0           0.0  \n",
       "2024-09-20 00:00:00-03:00  48336200        0.0           0.0  \n",
       "2024-09-23 00:00:00-03:00  28218500        0.0           0.0  \n",
       "2024-09-24 00:00:00-03:00  35104100        0.0           0.0  \n",
       "...                             ...        ...           ...  \n",
       "2025-03-12 00:00:00-03:00  20149100        0.0           0.0  \n",
       "2025-03-13 00:00:00-03:00  19263600        0.0           0.0  \n",
       "2025-03-14 00:00:00-03:00  41529400        0.0           0.0  \n",
       "2025-03-17 00:00:00-03:00  31175900        0.0           0.0  \n",
       "2025-03-18 00:00:00-03:00  15086400        0.0           0.0  \n",
       "\n",
       "[122 rows x 7 columns]"
      ]
     },
     "execution_count": 25,
     "metadata": {},
     "output_type": "execute_result"
    }
   ],
   "source": [
    "\n",
    "tabela = dados.history(\"6mo\")\n",
    "tabela"
   ]
  },
  {
   "cell_type": "code",
   "execution_count": 26,
   "metadata": {},
   "outputs": [
    {
     "data": {
      "text/plain": [
       "Date\n",
       "2024-09-18 00:00:00-03:00    33.504471\n",
       "2024-09-19 00:00:00-03:00    33.615685\n",
       "2024-09-20 00:00:00-03:00    33.606419\n",
       "2024-09-23 00:00:00-03:00    33.949345\n",
       "2024-09-24 00:00:00-03:00    34.088364\n",
       "                               ...    \n",
       "2025-03-12 00:00:00-03:00    34.099998\n",
       "2025-03-13 00:00:00-03:00    34.439999\n",
       "2025-03-14 00:00:00-03:00    35.500000\n",
       "2025-03-17 00:00:00-03:00    36.160000\n",
       "2025-03-18 00:00:00-03:00    36.189999\n",
       "Name: Close, Length: 122, dtype: float64"
      ]
     },
     "execution_count": 26,
     "metadata": {},
     "output_type": "execute_result"
    }
   ],
   "source": [
    "fechamento = tabela.Close\n",
    "fechamento"
   ]
  },
  {
   "cell_type": "code",
   "execution_count": 27,
   "metadata": {},
   "outputs": [
    {
     "data": {
      "image/png": "[encoded data removed]",
      "text/plain": [
       "<Figure size 640x480 with 1 Axes>"
      ]
     },
     "metadata": {},
     "output_type": "display_data"
    }
   ],
   "source": [
    "import matplotlib.pyplot as plt\n",
    "fechamento.plot()\n",
    "plt.show()"
   ]
  },
  {
   "cell_type": "code",
   "execution_count": 28,
   "metadata": {},
   "outputs": [
    {
     "name": "stdout",
     "output_type": "stream",
     "text": [
      "38.5\n",
      "38.5\n",
      "36.189998626708984\n"
     ]
    },
    {
     "name": "stderr",
     "output_type": "stream",
     "text": [
      "C:\\Users\\aluno\\AppData\\Local\\Temp\\ipykernel_15260\\2041525485.py:3: FutureWarning: Series.__getitem__ treating keys as positions is deprecated. In a future version, integer keys will always be treated as labels (consistent with DataFrame behavior). To access a value by position, use `ser.iloc[pos]`\n",
      "  atual = fechamento[-1]\n"
     ]
    }
   ],
   "source": [
    "maxima = fechamento.max()\n",
    "minima = fechamento.max()\n",
    "atual = fechamento[-1]\n",
    "\n",
    "print(maxima)\n",
    "print(minima)\n",
    "print(atual)"
   ]
  },
  {
   "cell_type": "code",
   "execution_count": 29,
   "metadata": {},
   "outputs": [],
   "source": [
    "import pyautogui\n",
    "import pyperclip"
   ]
  },
  {
   "cell_type": "code",
   "execution_count": 30,
   "metadata": {},
   "outputs": [],
   "source": [
    "\n",
    "destinatario = \"seuemail@gmail.com\"\n",
    "assunto = \"Análise diária\"\n",
    "\n",
    "mensagem = f\"\"\"\n",
    "Bom dia,\n",
    "\n",
    "Segue abaixo as análises da ação {ticker} dos últimos seis meses:\n",
    "\n",
    "Cotação máxima: R${round (maxima,2)}\n",
    "Cotação mínima: R${round(minima,2)}\n",
    "Cotação atual: R${round(atual,2)}\n",
    "\n",
    "anteciosamente,\n",
    "Seu nome.   \n",
    "Bom dia,\n",
    "\n",
    "Segue abaixo as análises da ação AAPL dos últimos seis meses:\n",
    "\n",
    "Cotação máxima: R$258.74\n",
    "Cotação mínima: R$258.74\n",
    "Cotação atual: R$212.69\n",
    "\n",
    "anteciosamente,\n",
    "Seu nome.\n",
    "\n",
    "\"\"\""
   ]
  },
  {
   "cell_type": "code",
   "execution_count": 31,
   "metadata": {},
   "outputs": [
    {
     "ename": "SyntaxError",
     "evalue": "invalid syntax (833127720.py, line 3)",
     "output_type": "error",
     "traceback": [
      "  \u001b[36mCell\u001b[39m\u001b[36m \u001b[39m\u001b[32mIn[31]\u001b[39m\u001b[32m, line 3\u001b[39m\n\u001b[31m    \u001b[39m\u001b[31mprint(mensagem)Análise diária\u001b[39m\n                   ^\n\u001b[31mSyntaxError\u001b[39m\u001b[31m:\u001b[39m invalid syntax\n"
     ]
    }
   ],
   "source": [
    "print(destinatario)\n",
    "print(assunto)\n",
    "print(mensagem)Análise diária"
   ]
  },
  {
   "cell_type": "code",
   "execution_count": null,
   "metadata": {},
   "outputs": [
    {
     "name": "stdout",
     "output_type": "stream",
     "text": [
      "email enviado com sucesso!\n"
     ]
    }
   ],
   "source": [
    "pyautogui.PAUSE = 3\n",
    "pyautogui.hotkey(\"ctrl\", \"t\")\n",
    "pyperclip.copy(\"www.gmail.com\")\n",
    "pyautogui.hotkey(\"ctrl\", \"v\")\n",
    "pyautogui.press(\"enter\")\n",
    "pyautogui.click(x=2034, y=210)\n",
    "pyperclip.copy(destinatario)\n",
    "pyautogui.hotkey(\"ctrl\", \"v\")\n",
    "pyautogui.press(\"tab\")\n",
    "pyperclip.copy(assunto)\n",
    "pyautogui.hotkey(\"ctrl\", \"v\")\n",
    "pyautogui.press(\"tab\")\n",
    "pyperclip.copy(mensagem)\n",
    "pyautogui.hotkey(\"ctrl\", \"v\")\n",
    "pyautogui.click(x=3107, y=975)\n",
    "pyautogui.hotkey(\"ctrl\", \"f4\")\n",
    "print('email enviado com sucesso!')"
   ]
  },
  {
   "cell_type": "code",
   "execution_count": null,
   "metadata": {},
   "outputs": [
    {
     "data": {
      "text/plain": [
       "Point(x=1919, y=975)"
      ]
     },
     "execution_count": 22,
     "metadata": {},
     "output_type": "execute_result"
    }
   ],
   "source": [
    "import time\n",
    "\n",
    "time.sleep(5)\n",
    "pyautogui.position()"
   ]
  }
 ],
 "metadata": {
  "kernelspec": {
   "display_name": ".venv",
   "language": "python",
   "name": "python3"
  },
  "language_info": {
   "codemirror_mode": {
    "name": "ipython",
    "version": 3
   },
   "file_extension": ".py",
   "mimetype": "text/x-python",
   "name": "python",
   "nbconvert_exporter": "python",
   "pygments_lexer": "ipython3",
   "version": "3.12.4"
  }
 },
 "nbformat": 4,
 "nbformat_minor": 2
}
